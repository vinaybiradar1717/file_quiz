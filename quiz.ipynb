{
 "cells": [
  {
   "cell_type": "code",
   "execution_count": 3,
   "id": "e758fef6",
   "metadata": {},
   "outputs": [],
   "source": [
    "f = open('questions.txt', 'r+')"
   ]
  },
  {
   "cell_type": "code",
   "execution_count": 4,
   "id": "30b6b48d",
   "metadata": {},
   "outputs": [],
   "source": [
    "data = f.read()"
   ]
  },
  {
   "cell_type": "code",
   "execution_count": 8,
   "id": "dabe82e0",
   "metadata": {},
   "outputs": [],
   "source": [
    "file_content = data.split('\\n')"
   ]
  },
  {
   "cell_type": "code",
   "execution_count": 9,
   "id": "a68011ee",
   "metadata": {},
   "outputs": [
    {
     "data": {
      "text/plain": [
       "['1. National animal of India.',\n",
       " '2. National bird of India.',\n",
       " '3. Who is the current President of India.',\n",
       " '4. First worldcup won by Indian cricket team in th year.',\n",
       " '5. Second worldcup won by Indian cricket team in th year.']"
      ]
     },
     "execution_count": 9,
     "metadata": {},
     "output_type": "execute_result"
    }
   ],
   "source": [
    "file_content"
   ]
  },
  {
   "cell_type": "code",
   "execution_count": 1,
   "id": "98b4f3ef",
   "metadata": {},
   "outputs": [
    {
     "ename": "NameError",
     "evalue": "name 'f' is not defined",
     "output_type": "error",
     "traceback": [
      "\u001b[1;31m---------------------------------------------------------------------------\u001b[0m",
      "\u001b[1;31mNameError\u001b[0m                                 Traceback (most recent call last)",
      "\u001b[1;32mc:\\Users\\vinbirad\\Desktop\\quizzy\\quiz.ipynb Cell 5\u001b[0m in \u001b[0;36m<cell line: 1>\u001b[1;34m()\u001b[0m\n\u001b[1;32m----> <a href='vscode-notebook-cell:/c%3A/Users/vinbirad/Desktop/quizzy/quiz.ipynb#W4sZmlsZQ%3D%3D?line=0'>1</a>\u001b[0m f\u001b[39m.\u001b[39mclose()\n",
      "\u001b[1;31mNameError\u001b[0m: name 'f' is not defined"
     ]
    }
   ],
   "source": [
    "f.close()"
   ]
  },
  {
   "cell_type": "code",
   "execution_count": null,
   "id": "426b1195",
   "metadata": {},
   "outputs": [
    {
     "data": {
      "text/plain": [
       "['1. National animal of India.',\n",
       " '2. National bird of India.',\n",
       " '3. Who is the current President of India.',\n",
       " '4. First worldcup won by Indian cricket team in th year.',\n",
       " '5. Second worldcup won by Indian cricket team in th year.']"
      ]
     },
     "execution_count": 11,
     "metadata": {},
     "output_type": "execute_result"
    }
   ],
   "source": [
    "file_content"
   ]
  },
  {
   "cell_type": "code",
   "execution_count": null,
   "id": "6306b071",
   "metadata": {},
   "outputs": [],
   "source": [
    "file_content"
   ]
  },
  {
   "cell_type": "code",
   "execution_count": null,
   "id": "88de04fd",
   "metadata": {},
   "outputs": [],
   "source": []
  }
 ],
 "metadata": {
  "kernelspec": {
   "display_name": "Python 3.9.12 ('base')",
   "language": "python",
   "name": "python3"
  },
  "language_info": {
   "codemirror_mode": {
    "name": "ipython",
    "version": 3
   },
   "file_extension": ".py",
   "mimetype": "text/x-python",
   "name": "python",
   "nbconvert_exporter": "python",
   "pygments_lexer": "ipython3",
   "version": "3.9.12"
  },
  "vscode": {
   "interpreter": {
    "hash": "c0a68add92a8fb16908913e90f50fef6f22311e066a0df85fe81c2b8b37d1cfb"
   }
  }
 },
 "nbformat": 4,
 "nbformat_minor": 5
}
